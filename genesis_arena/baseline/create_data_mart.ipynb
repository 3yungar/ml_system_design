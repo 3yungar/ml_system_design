{
 "cells": [
  {
   "cell_type": "markdown",
   "metadata": {},
   "source": [
    "<h1>Создание витрины данных базового уровня энергопотребления на объекте</h1>"
   ]
  },
  {
   "cell_type": "code",
   "execution_count": 1,
   "metadata": {},
   "outputs": [],
   "source": [
    "import numpy as np\n",
    "import pandas as pd\n",
    "import pickle\n",
    "import os\n",
    "from dotenv import load_dotenv\n",
    "from data_wrapper import db_wrapper\n",
    "from clickhouse_driver import Client\n",
    "import datetime as dt"
   ]
  },
  {
   "cell_type": "code",
   "execution_count": 2,
   "metadata": {},
   "outputs": [],
   "source": [
    "# Период мониторинга для получения данных, на которых будет проводиться обучение модели\n",
    "start_date = input('Введите начало периода в формате YYYY-MM-DD:')\n",
    "end_date = input('Введите конец периода в формате YYYY-MM-DD:')\n",
    "startYear, startMonth, startDay = map(int, start_date.split('-'))\n",
    "endYear, endMonth, endDay = map(int, end_date.split('-'))"
   ]
  },
  {
   "cell_type": "markdown",
   "metadata": {},
   "source": [
    "# <h1>Расчет базового уровня потребления</h1>"
   ]
  },
  {
   "cell_type": "code",
   "execution_count": 3,
   "metadata": {},
   "outputs": [],
   "source": [
    "load_dotenv()\n",
    "\n",
    "HOST = os.getenv('BASE_HOST')\n",
    "USERNAME = os.getenv('USERNAME')\n",
    "PASSWORD = os.getenv('BASE_PASSWORD')\n",
    "CA = os.getenv('CA')\n",
    "READONLY = os.getenv('BASE_READONLY')\n",
    "\n",
    "wrap = db_wrapper.ClickHouseWrapper(host=HOST, user=USERNAME, password=PASSWORD, ca=CA)\n",
    "client = Client(host=HOST, user=USERNAME, password=PASSWORD, ca_certs=CA, secure=True)"
   ]
  },
  {
   "cell_type": "code",
   "execution_count": 4,
   "metadata": {},
   "outputs": [],
   "source": [
    "sensors = [\n",
    "# Потребление компрессоров\n",
    "{\n",
    "    \"db\": \"genesis_arena\", \"name\": \"map12e_142\", \"measurement\": \"Total AP energy\", \n",
    "    \"channel\": 2, \"phase\": 0, \"name_in_df\": \"compressor1\", \"mode\": \"max-min\"\n",
    "},\n",
    "{\n",
    "    \"db\": \"genesis_arena\", \"name\": \"map12e_142\", \"measurement\": \"Total AP energy\",\n",
    "    \"channel\": 3, \"phase\": 0, \"name_in_df\": \"compressor2\", \"mode\": \"max-min\"\n",
    "},\n",
    "{\n",
    "    \"db\": \"genesis_arena\", \"name\": \"map12e_142\", \"measurement\": \"Total AP energy\",\n",
    "    \"channel\": 4, \"phase\": 0, \"name_in_df\": \"compressor3\", \"mode\": \"max-min\"\n",
    "},\n",
    "{\n",
    "    \"db\": \"genesis_arena\", \"name\": \"map12e_145\", \"measurement\": \"Total AP energy\",\n",
    "    \"channel\": 1, \"phase\": 0, \"name_in_df\": \"compressor4\", \"mode\": \"max-min\"\n",
    "},\n",
    "# Внешняя температура\n",
    "{\n",
    "    \"db\": \"genesis_arena\", \"name\": \"weather_owm\", \"measurement\": \"Temperature\",\n",
    "    \"channel\": 0, \"phase\": 0, \"name_in_df\": \"temp_outside\", \"mode\": \"mean\"\n",
    "}\n",
    "]\n",
    "\n",
    "start = dt.datetime(startYear, startMonth, startDay, 0, 0, 0) - dt.timedelta(hours=3)\n",
    "end = dt.datetime(endYear, endMonth, endDay, 0, 0, 0) - dt.timedelta(hours=3)\n",
    "presample = dt.timedelta(days=1)\n",
    "\n",
    "data = wrap.get_particular_sensors(start, end, sensors, presample_time=presample,  without_confidence=True)"
   ]
  },
  {
   "cell_type": "code",
   "execution_count": 5,
   "metadata": {},
   "outputs": [],
   "source": [
    "data = (data\n",
    " .tz_localize(None)\n",
    " .reset_index(names='time')\n",
    " .assign(compressors=lambda df: df[['compressor1', 'compressor2', 'compressor3', 'compressor4']].sum(axis=1))\n",
    " .pipe(lambda df: df.drop(columns=['compressor1', 'compressor2', 'compressor3', 'compressor4']))\n",
    " )"
   ]
  },
  {
   "cell_type": "markdown",
   "metadata": {},
   "source": [
    "<h3>Температура льда</h3>"
   ]
  },
  {
   "cell_type": "code",
   "execution_count": 6,
   "metadata": {},
   "outputs": [],
   "source": [
    "sensors = [\n",
    "# Температура льда\n",
    "{\n",
    "    \"db\": \"genesis_arena\", \"name\": \"msw-v3_2\", \"measurement\": \"Temperature\", \n",
    "    \"channel\": 0, \"phase\": 0, \"name_in_df\": \"temp_ice\", \"mode\": \"mean\"\n",
    "}\n",
    "]\n",
    "\n",
    "start = dt.datetime(startYear, startMonth, startDay, 0, 0, 0) - dt.timedelta(hours=3)\n",
    "end = dt.datetime(endYear, endMonth, endDay, 0, 0, 0) - dt.timedelta(hours=3)\n",
    "presample = dt.timedelta(minutes=1)\n",
    "\n",
    "ice_df = wrap.get_particular_sensors(start, end, sensors, presample_time=presample,  without_confidence=True)\n",
    "ice_df = ice_df.tz_localize(None).reset_index(names='time')"
   ]
  },
  {
   "cell_type": "code",
   "execution_count": 7,
   "metadata": {},
   "outputs": [],
   "source": [
    "ice_df = (ice_df\n",
    " # Обработка аномальных значений\n",
    " .assign(temp_ice=lambda df: np.where(df['temp_ice'].between(-10, 3), df['temp_ice'], np.NaN))\n",
    " .assign(temp_ice=lambda df: df['temp_ice'].ffill())\n",
    " # Дифференцируем, экспоненциально сглаженный, ряд для нахождения заливки\n",
    " .assign(diff=lambda df: df['temp_ice'].ewm(span=60).mean().diff())\n",
    " .assign(flood=lambda df: np.where(df['diff'] > 0.03, 1, 0))\n",
    " # Создаем признак, чтобы подсчитать время между заливками\n",
    " .assign(diff_time=dt.timedelta(minutes=45))\n",
    " )\n",
    "\n",
    "# Подсчет правильного количества заливок\n",
    "ice_df.loc[ice_df['flood'] == 1, 'diff_time'] = ice_df.loc[ice_df['flood'] == 1, 'time'].diff().fillna(dt.timedelta(minutes=100))\n",
    "ice_df.loc[ice_df['diff_time'] < dt.timedelta(minutes=45), 'flood'] = 0"
   ]
  },
  {
   "cell_type": "code",
   "execution_count": 8,
   "metadata": {},
   "outputs": [],
   "source": [
    "flood_df = ice_df.groupby(pd.to_datetime(ice_df['time'].dt.date))[['flood']].sum().reset_index()\n",
    "data = data.merge(flood_df, on='time')"
   ]
  },
  {
   "cell_type": "code",
   "execution_count": 9,
   "metadata": {},
   "outputs": [],
   "source": [
    "model = pickle.load(open('models/baseline_polynominal_compressors.sav', 'rb'))\n",
    "xpoly = pickle.load(open('models/poly_features.sav', 'rb'))"
   ]
  },
  {
   "cell_type": "code",
   "execution_count": 10,
   "metadata": {},
   "outputs": [],
   "source": [
    "xfeatures = xpoly.fit_transform(data[['temp_outside', 'flood']])\n",
    "data['baseline'] = model.predict(xfeatures)\n",
    "data['baseline'] = np.where(data['baseline'] > data['compressors'], data['baseline'], data['compressors'])\n",
    "data['economy'] = data['baseline'] - data['compressors']"
   ]
  },
  {
   "cell_type": "markdown",
   "metadata": {},
   "source": [
    "# <h2>Формирование витрины данных</h2>"
   ]
  },
  {
   "cell_type": "code",
   "execution_count": 11,
   "metadata": {},
   "outputs": [],
   "source": [
    "# Подключаемся к БД с правами загрузки\n",
    "HOST = os.getenv('SUDO_HOST')\n",
    "USERNAME = os.getenv('USERNAME')\n",
    "PASSWORD = os.getenv('SUDO_PASSWORD')\n",
    "CA = os.getenv('CA')\n",
    "READONLY = os.getenv('SUDO_READONLY')\n",
    "\n",
    "client = Client(host=HOST, user=USERNAME, password=PASSWORD, ca_certs=CA, secure=True)"
   ]
  },
  {
   "cell_type": "code",
   "execution_count": 12,
   "metadata": {},
   "outputs": [
    {
     "data": {
      "text/plain": [
       "[('akarmanov_test_db',)]"
      ]
     },
     "execution_count": 12,
     "metadata": {},
     "output_type": "execute_result"
    }
   ],
   "source": [
    "# Базы данных \n",
    "client.execute('show databases')"
   ]
  },
  {
   "cell_type": "code",
   "execution_count": 13,
   "metadata": {},
   "outputs": [
    {
     "data": {
      "text/plain": [
       "[]"
      ]
     },
     "execution_count": 13,
     "metadata": {},
     "output_type": "execute_result"
    }
   ],
   "source": [
    "# Создаем базу данных объекта с таблицей витрины\n",
    "client.execute('USE akarmanov_test_db')\n",
    "client.execute('''\n",
    "CREATE OR REPLACE TABLE baseline\n",
    "(\n",
    "    time Datetime,\n",
    "    baseline Float32,\n",
    "    compressors Float32,\n",
    "    economy Float32,\n",
    "    temp_outside Float32,\n",
    "    flood UInt8\n",
    ")\n",
    "ENGINE = ReplacingMergeTree(time)\n",
    "ORDER BY time\n",
    "''')"
   ]
  },
  {
   "cell_type": "code",
   "execution_count": 14,
   "metadata": {},
   "outputs": [
    {
     "data": {
      "text/plain": [
       "314"
      ]
     },
     "execution_count": 14,
     "metadata": {},
     "output_type": "execute_result"
    }
   ],
   "source": [
    "# Записть данных в БД\n",
    "client.insert_dataframe(\n",
    "    'INSERT INTO \"baseline\" (time, baseline, compressors, economy, temp_outside, flood) values',\n",
    "    data[['time', 'baseline', 'compressors', 'economy', 'temp_outside', 'flood']],\n",
    "    settings=dict(use_numpy=True)\n",
    "    )"
   ]
  },
  {
   "cell_type": "code",
   "execution_count": 15,
   "metadata": {},
   "outputs": [
    {
     "data": {
      "text/html": [
       "<div>\n",
       "<style scoped>\n",
       "    .dataframe tbody tr th:only-of-type {\n",
       "        vertical-align: middle;\n",
       "    }\n",
       "\n",
       "    .dataframe tbody tr th {\n",
       "        vertical-align: top;\n",
       "    }\n",
       "\n",
       "    .dataframe thead th {\n",
       "        text-align: right;\n",
       "    }\n",
       "</style>\n",
       "<table border=\"1\" class=\"dataframe\">\n",
       "  <thead>\n",
       "    <tr style=\"text-align: right;\">\n",
       "      <th></th>\n",
       "      <th>time</th>\n",
       "      <th>baseline</th>\n",
       "      <th>compressors</th>\n",
       "      <th>economy</th>\n",
       "      <th>temp_outside</th>\n",
       "      <th>flood</th>\n",
       "    </tr>\n",
       "  </thead>\n",
       "  <tbody>\n",
       "    <tr>\n",
       "      <th>0</th>\n",
       "      <td>2022-09-20</td>\n",
       "      <td>1989.128540</td>\n",
       "      <td>1989.128540</td>\n",
       "      <td>0.000000</td>\n",
       "      <td>11.164126</td>\n",
       "      <td>4</td>\n",
       "    </tr>\n",
       "    <tr>\n",
       "      <th>1</th>\n",
       "      <td>2022-09-21</td>\n",
       "      <td>2148.062744</td>\n",
       "      <td>2042.537231</td>\n",
       "      <td>105.525528</td>\n",
       "      <td>9.081195</td>\n",
       "      <td>13</td>\n",
       "    </tr>\n",
       "    <tr>\n",
       "      <th>2</th>\n",
       "      <td>2022-09-22</td>\n",
       "      <td>2020.460083</td>\n",
       "      <td>2001.760498</td>\n",
       "      <td>18.699591</td>\n",
       "      <td>10.449581</td>\n",
       "      <td>9</td>\n",
       "    </tr>\n",
       "    <tr>\n",
       "      <th>3</th>\n",
       "      <td>2022-09-23</td>\n",
       "      <td>2044.123169</td>\n",
       "      <td>2004.988525</td>\n",
       "      <td>39.134720</td>\n",
       "      <td>10.587442</td>\n",
       "      <td>10</td>\n",
       "    </tr>\n",
       "    <tr>\n",
       "      <th>4</th>\n",
       "      <td>2022-09-24</td>\n",
       "      <td>2059.048584</td>\n",
       "      <td>2059.048584</td>\n",
       "      <td>0.000000</td>\n",
       "      <td>7.949948</td>\n",
       "      <td>10</td>\n",
       "    </tr>\n",
       "    <tr>\n",
       "      <th>...</th>\n",
       "      <td>...</td>\n",
       "      <td>...</td>\n",
       "      <td>...</td>\n",
       "      <td>...</td>\n",
       "      <td>...</td>\n",
       "      <td>...</td>\n",
       "    </tr>\n",
       "    <tr>\n",
       "      <th>309</th>\n",
       "      <td>2023-07-26</td>\n",
       "      <td>1827.163086</td>\n",
       "      <td>1751.236938</td>\n",
       "      <td>75.926170</td>\n",
       "      <td>20.418806</td>\n",
       "      <td>10</td>\n",
       "    </tr>\n",
       "    <tr>\n",
       "      <th>310</th>\n",
       "      <td>2023-07-27</td>\n",
       "      <td>1836.449951</td>\n",
       "      <td>1836.449951</td>\n",
       "      <td>0.000000</td>\n",
       "      <td>20.129503</td>\n",
       "      <td>9</td>\n",
       "    </tr>\n",
       "    <tr>\n",
       "      <th>311</th>\n",
       "      <td>2023-07-28</td>\n",
       "      <td>1812.578979</td>\n",
       "      <td>1532.061768</td>\n",
       "      <td>280.517273</td>\n",
       "      <td>19.396645</td>\n",
       "      <td>7</td>\n",
       "    </tr>\n",
       "    <tr>\n",
       "      <th>312</th>\n",
       "      <td>2023-07-29</td>\n",
       "      <td>1889.282349</td>\n",
       "      <td>1282.816406</td>\n",
       "      <td>606.465942</td>\n",
       "      <td>15.569622</td>\n",
       "      <td>5</td>\n",
       "    </tr>\n",
       "    <tr>\n",
       "      <th>313</th>\n",
       "      <td>2023-07-30</td>\n",
       "      <td>1836.961426</td>\n",
       "      <td>1372.140625</td>\n",
       "      <td>464.820862</td>\n",
       "      <td>18.193438</td>\n",
       "      <td>6</td>\n",
       "    </tr>\n",
       "  </tbody>\n",
       "</table>\n",
       "<p>314 rows × 6 columns</p>\n",
       "</div>"
      ],
      "text/plain": [
       "          time     baseline  compressors     economy  temp_outside  flood\n",
       "0   2022-09-20  1989.128540  1989.128540    0.000000     11.164126      4\n",
       "1   2022-09-21  2148.062744  2042.537231  105.525528      9.081195     13\n",
       "2   2022-09-22  2020.460083  2001.760498   18.699591     10.449581      9\n",
       "3   2022-09-23  2044.123169  2004.988525   39.134720     10.587442     10\n",
       "4   2022-09-24  2059.048584  2059.048584    0.000000      7.949948     10\n",
       "..         ...          ...          ...         ...           ...    ...\n",
       "309 2023-07-26  1827.163086  1751.236938   75.926170     20.418806     10\n",
       "310 2023-07-27  1836.449951  1836.449951    0.000000     20.129503      9\n",
       "311 2023-07-28  1812.578979  1532.061768  280.517273     19.396645      7\n",
       "312 2023-07-29  1889.282349  1282.816406  606.465942     15.569622      5\n",
       "313 2023-07-30  1836.961426  1372.140625  464.820862     18.193438      6\n",
       "\n",
       "[314 rows x 6 columns]"
      ]
     },
     "execution_count": 15,
     "metadata": {},
     "output_type": "execute_result"
    }
   ],
   "source": [
    "client.query_dataframe('select * from baseline final')"
   ]
  },
  {
   "cell_type": "code",
   "execution_count": null,
   "metadata": {},
   "outputs": [],
   "source": []
  }
 ],
 "metadata": {
  "kernelspec": {
   "display_name": "venv",
   "language": "python",
   "name": "python3"
  },
  "language_info": {
   "codemirror_mode": {
    "name": "ipython",
    "version": 3
   },
   "file_extension": ".py",
   "mimetype": "text/x-python",
   "name": "python",
   "nbconvert_exporter": "python",
   "pygments_lexer": "ipython3",
   "version": "3.10.12"
  },
  "orig_nbformat": 4
 },
 "nbformat": 4,
 "nbformat_minor": 2
}
